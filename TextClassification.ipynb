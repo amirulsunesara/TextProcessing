{
 "cells": [
  {
   "cell_type": "markdown",
   "metadata": {},
   "source": [
    "## Project Objectives:\n",
    "\n",
    "Using 20 news groups dataset of scikit learn for\n",
    "- Tokenizing corpus and perform part-of-speech tagging on it.\n",
    "- Applying techniques (Frequency with filter, PMI, T-test with filter and Chi-Sq test) to extract bigram collocations from the corpus and comparing these techniques. \n",
    "- Applying SVM (3 different kernals) and multinomial naive bayes.\n",
    "- Comparing accuracy of SVM and NB."
   ]
  },
  {
   "cell_type": "code",
   "execution_count": 1,
   "metadata": {},
   "outputs": [],
   "source": [
    "#import libraries\n",
    "import nltk\n",
    "from sklearn.datasets import fetch_20newsgroups\n",
    "from nltk.tokenize import word_tokenize\n",
    "from nltk.corpus import stopwords\n",
    "from nltk.collocations import *\n",
    "from sklearn.model_selection import GridSearchCV\n",
    "import re\n",
    "from sklearn.model_selection import train_test_split\n",
    "from sklearn.svm import SVC\n",
    "from sklearn.pipeline import Pipeline\n",
    "from sklearn.feature_extraction.text import TfidfVectorizer\n",
    "import numpy as np\n",
    "from sklearn import metrics\n",
    "from sklearn.naive_bayes import MultinomialNB\n",
    "import matplotlib.pyplot as plt\n",
    "import pandas as pd\n",
    "import scikitplot as sciplt\n",
    "from nltk.stem.snowball import SnowballStemmer"
   ]
  },
  {
   "cell_type": "code",
   "execution_count": 2,
   "metadata": {},
   "outputs": [],
   "source": [
    "stemmer = SnowballStemmer(\"english\", ignore_stopwords=True)\n",
    "#initialize array of stop words\n",
    "stop_words=set(stopwords.words(\"english\"))\n",
    "#pick four categories\n",
    "categories = ['alt.atheism', 'talk.religion.misc','comp.graphics','sci.space']\n",
    "#fetch all newsgroups data from 4 categories and remove unnecessary data including headers, footers and quotes\n",
    "newsgroups = fetch_20newsgroups(categories=categories,subset='all',shuffle=True,remove=('headers', 'footers', 'quotes'))\n"
   ]
  },
  {
   "cell_type": "markdown",
   "metadata": {},
   "source": [
    "#### a) Tokenizing Corpus and Performing POS Tagging"
   ]
  },
  {
   "cell_type": "code",
   "execution_count": 3,
   "metadata": {},
   "outputs": [],
   "source": [
    "#cleaning data for bigram collocations\n",
    "filteredWords = []\n",
    "index=0\n",
    "for news in newsgroups.data:\n",
    "    #retain only alphabetical data (remove numbers and special characters)\n",
    "    newsgroups.data[index] = re.sub(r\"[^a-zA-Z]+\", ' ',news)\n",
    "    #convert news to lower case\n",
    "    newsgroups.data[index] = newsgroups.data[index].lower() \n",
    "    #remove stop words\n",
    "    newsgroups.data[index] = ' '.join([word for word in newsgroups.data[index].split() if word not in stop_words]) \n",
    "    tokenized_words=word_tokenize(newsgroups.data[index])\n",
    "    for word in tokenized_words:\n",
    "        filteredWords.append(word)\n",
    "    index=index+1"
   ]
  },
  {
   "cell_type": "code",
   "execution_count": 4,
   "metadata": {},
   "outputs": [],
   "source": [
    "tagged_words = nltk.pos_tag(filteredWords)"
   ]
  },
  {
   "cell_type": "markdown",
   "metadata": {},
   "source": [
    "#### b) Applying the techniques (Frequency with filter, PMI, T-test with filter, Chi-Sq test) "
   ]
  },
  {
   "cell_type": "code",
   "execution_count": 5,
   "metadata": {},
   "outputs": [
    {
     "data": {
      "text/html": [
       "<div>\n",
       "<style scoped>\n",
       "    .dataframe tbody tr th:only-of-type {\n",
       "        vertical-align: middle;\n",
       "    }\n",
       "\n",
       "    .dataframe tbody tr th {\n",
       "        vertical-align: top;\n",
       "    }\n",
       "\n",
       "    .dataframe thead th {\n",
       "        text-align: right;\n",
       "    }\n",
       "</style>\n",
       "<table border=\"1\" class=\"dataframe\">\n",
       "  <thead>\n",
       "    <tr style=\"text-align: right;\">\n",
       "      <th></th>\n",
       "      <th>bigram</th>\n",
       "      <th>pmi</th>\n",
       "    </tr>\n",
       "  </thead>\n",
       "  <tbody>\n",
       "    <tr>\n",
       "      <th>0</th>\n",
       "      <td>(aatdb, arabidopsis)</td>\n",
       "      <td>18.501161</td>\n",
       "    </tr>\n",
       "    <tr>\n",
       "      <th>1</th>\n",
       "      <td>(planetenproject, programmeert)</td>\n",
       "      <td>18.501161</td>\n",
       "    </tr>\n",
       "    <tr>\n",
       "      <th>2</th>\n",
       "      <td>(perfecetly, reasoable)</td>\n",
       "      <td>18.501161</td>\n",
       "    </tr>\n",
       "    <tr>\n",
       "      <th>3</th>\n",
       "      <td>(pepvax, pepperdine)</td>\n",
       "      <td>18.501161</td>\n",
       "    </tr>\n",
       "    <tr>\n",
       "      <th>4</th>\n",
       "      <td>(pentacost, hymn)</td>\n",
       "      <td>18.501161</td>\n",
       "    </tr>\n",
       "    <tr>\n",
       "      <th>5</th>\n",
       "      <td>(pelletized, ceramic)</td>\n",
       "      <td>18.501161</td>\n",
       "    </tr>\n",
       "    <tr>\n",
       "      <th>6</th>\n",
       "      <td>(pekka, himanen)</td>\n",
       "      <td>18.501161</td>\n",
       "    </tr>\n",
       "    <tr>\n",
       "      <th>7</th>\n",
       "      <td>(peacefully, enjoin)</td>\n",
       "      <td>18.501161</td>\n",
       "    </tr>\n",
       "    <tr>\n",
       "      <th>8</th>\n",
       "      <td>(patrimony, zorastrian)</td>\n",
       "      <td>18.501161</td>\n",
       "    </tr>\n",
       "    <tr>\n",
       "      <th>9</th>\n",
       "      <td>(passel, sterile)</td>\n",
       "      <td>18.501161</td>\n",
       "    </tr>\n",
       "    <tr>\n",
       "      <th>10</th>\n",
       "      <td>(particularities, aam)</td>\n",
       "      <td>18.501161</td>\n",
       "    </tr>\n",
       "    <tr>\n",
       "      <th>11</th>\n",
       "      <td>(parti, cipant)</td>\n",
       "      <td>18.501161</td>\n",
       "    </tr>\n",
       "    <tr>\n",
       "      <th>12</th>\n",
       "      <td>(partake, joyously)</td>\n",
       "      <td>18.501161</td>\n",
       "    </tr>\n",
       "    <tr>\n",
       "      <th>13</th>\n",
       "      <td>(paronoid, moromn)</td>\n",
       "      <td>18.501161</td>\n",
       "    </tr>\n",
       "    <tr>\n",
       "      <th>14</th>\n",
       "      <td>(parabola, queasiness)</td>\n",
       "      <td>18.501161</td>\n",
       "    </tr>\n",
       "    <tr>\n",
       "      <th>15</th>\n",
       "      <td>(pacman, visicalc)</td>\n",
       "      <td>18.501161</td>\n",
       "    </tr>\n",
       "    <tr>\n",
       "      <th>16</th>\n",
       "      <td>(overige, sprekers)</td>\n",
       "      <td>18.501161</td>\n",
       "    </tr>\n",
       "    <tr>\n",
       "      <th>17</th>\n",
       "      <td>(overbearing, totalitarianists)</td>\n",
       "      <td>18.501161</td>\n",
       "    </tr>\n",
       "    <tr>\n",
       "      <th>18</th>\n",
       "      <td>(oveo, vegetarians)</td>\n",
       "      <td>18.501161</td>\n",
       "    </tr>\n",
       "    <tr>\n",
       "      <th>19</th>\n",
       "      <td>(periterr, pericynthion)</td>\n",
       "      <td>18.501161</td>\n",
       "    </tr>\n",
       "  </tbody>\n",
       "</table>\n",
       "</div>"
      ],
      "text/plain": [
       "                             bigram        pmi\n",
       "0              (aatdb, arabidopsis)  18.501161\n",
       "1   (planetenproject, programmeert)  18.501161\n",
       "2           (perfecetly, reasoable)  18.501161\n",
       "3              (pepvax, pepperdine)  18.501161\n",
       "4                 (pentacost, hymn)  18.501161\n",
       "5             (pelletized, ceramic)  18.501161\n",
       "6                  (pekka, himanen)  18.501161\n",
       "7              (peacefully, enjoin)  18.501161\n",
       "8           (patrimony, zorastrian)  18.501161\n",
       "9                 (passel, sterile)  18.501161\n",
       "10           (particularities, aam)  18.501161\n",
       "11                  (parti, cipant)  18.501161\n",
       "12              (partake, joyously)  18.501161\n",
       "13               (paronoid, moromn)  18.501161\n",
       "14           (parabola, queasiness)  18.501161\n",
       "15               (pacman, visicalc)  18.501161\n",
       "16              (overige, sprekers)  18.501161\n",
       "17  (overbearing, totalitarianists)  18.501161\n",
       "18              (oveo, vegetarians)  18.501161\n",
       "19         (periterr, pericynthion)  18.501161"
      ]
     },
     "execution_count": 5,
     "metadata": {},
     "output_type": "execute_result"
    }
   ],
   "source": [
    "bigram_measures = nltk.collocations.BigramAssocMeasures()\n",
    "finder = BigramCollocationFinder.from_words(filteredWords)\n",
    "scored_words_pmi = finder.score_ngrams(bigram_measures.pmi)\n",
    "\n",
    "# create dataframe and sort tuple on basis of score in descending order\n",
    "dfPMI = pd.DataFrame(\n",
    "            list(scored_words_pmi), \n",
    "            columns=['bigram','pmi']).sort_values(by='pmi', ascending=False)[0:20].reset_index(drop=True)\n",
    "dfPMI[0:20]"
   ]
  },
  {
   "cell_type": "code",
   "execution_count": 6,
   "metadata": {},
   "outputs": [
    {
     "data": {
      "text/html": [
       "<div>\n",
       "<style scoped>\n",
       "    .dataframe tbody tr th:only-of-type {\n",
       "        vertical-align: middle;\n",
       "    }\n",
       "\n",
       "    .dataframe tbody tr th {\n",
       "        vertical-align: top;\n",
       "    }\n",
       "\n",
       "    .dataframe thead th {\n",
       "        text-align: right;\n",
       "    }\n",
       "</style>\n",
       "<table border=\"1\" class=\"dataframe\">\n",
       "  <thead>\n",
       "    <tr style=\"text-align: right;\">\n",
       "      <th></th>\n",
       "      <th>bigram</th>\n",
       "      <th>raw_freq</th>\n",
       "    </tr>\n",
       "  </thead>\n",
       "  <tbody>\n",
       "    <tr>\n",
       "      <th>0</th>\n",
       "      <td>(can, not)</td>\n",
       "      <td>0.000539</td>\n",
       "    </tr>\n",
       "    <tr>\n",
       "      <th>1</th>\n",
       "      <td>(e, mail)</td>\n",
       "      <td>0.000509</td>\n",
       "    </tr>\n",
       "    <tr>\n",
       "      <th>2</th>\n",
       "      <td>(nasa, gov)</td>\n",
       "      <td>0.000388</td>\n",
       "    </tr>\n",
       "    <tr>\n",
       "      <th>3</th>\n",
       "      <td>(image, processing)</td>\n",
       "      <td>0.000348</td>\n",
       "    </tr>\n",
       "    <tr>\n",
       "      <th>4</th>\n",
       "      <td>(anonymous, ftp)</td>\n",
       "      <td>0.000345</td>\n",
       "    </tr>\n",
       "    <tr>\n",
       "      <th>5</th>\n",
       "      <td>(would, like)</td>\n",
       "      <td>0.000345</td>\n",
       "    </tr>\n",
       "    <tr>\n",
       "      <th>6</th>\n",
       "      <td>(tar, z)</td>\n",
       "      <td>0.000315</td>\n",
       "    </tr>\n",
       "    <tr>\n",
       "      <th>7</th>\n",
       "      <td>(computer, graphics)</td>\n",
       "      <td>0.000310</td>\n",
       "    </tr>\n",
       "    <tr>\n",
       "      <th>8</th>\n",
       "      <td>(p, p)</td>\n",
       "      <td>0.000310</td>\n",
       "    </tr>\n",
       "    <tr>\n",
       "      <th>9</th>\n",
       "      <td>(edu, pub)</td>\n",
       "      <td>0.000261</td>\n",
       "    </tr>\n",
       "    <tr>\n",
       "      <th>10</th>\n",
       "      <td>(alt, atheism)</td>\n",
       "      <td>0.000253</td>\n",
       "    </tr>\n",
       "    <tr>\n",
       "      <th>11</th>\n",
       "      <td>(lord, jehovah)</td>\n",
       "      <td>0.000251</td>\n",
       "    </tr>\n",
       "    <tr>\n",
       "      <th>12</th>\n",
       "      <td>(space, station)</td>\n",
       "      <td>0.000240</td>\n",
       "    </tr>\n",
       "    <tr>\n",
       "      <th>13</th>\n",
       "      <td>(many, people)</td>\n",
       "      <td>0.000232</td>\n",
       "    </tr>\n",
       "    <tr>\n",
       "      <th>14</th>\n",
       "      <td>(comp, graphics)</td>\n",
       "      <td>0.000229</td>\n",
       "    </tr>\n",
       "    <tr>\n",
       "      <th>15</th>\n",
       "      <td>(mit, edu)</td>\n",
       "      <td>0.000229</td>\n",
       "    </tr>\n",
       "    <tr>\n",
       "      <th>16</th>\n",
       "      <td>(space, shuttle)</td>\n",
       "      <td>0.000229</td>\n",
       "    </tr>\n",
       "    <tr>\n",
       "      <th>17</th>\n",
       "      <td>(solar, system)</td>\n",
       "      <td>0.000226</td>\n",
       "    </tr>\n",
       "    <tr>\n",
       "      <th>18</th>\n",
       "      <td>(p, x)</td>\n",
       "      <td>0.000216</td>\n",
       "    </tr>\n",
       "    <tr>\n",
       "      <th>19</th>\n",
       "      <td>(source, code)</td>\n",
       "      <td>0.000210</td>\n",
       "    </tr>\n",
       "  </tbody>\n",
       "</table>\n",
       "</div>"
      ],
      "text/plain": [
       "                  bigram  raw_freq\n",
       "0             (can, not)  0.000539\n",
       "1              (e, mail)  0.000509\n",
       "2            (nasa, gov)  0.000388\n",
       "3    (image, processing)  0.000348\n",
       "4       (anonymous, ftp)  0.000345\n",
       "5          (would, like)  0.000345\n",
       "6               (tar, z)  0.000315\n",
       "7   (computer, graphics)  0.000310\n",
       "8                 (p, p)  0.000310\n",
       "9             (edu, pub)  0.000261\n",
       "10        (alt, atheism)  0.000253\n",
       "11       (lord, jehovah)  0.000251\n",
       "12      (space, station)  0.000240\n",
       "13        (many, people)  0.000232\n",
       "14      (comp, graphics)  0.000229\n",
       "15            (mit, edu)  0.000229\n",
       "16      (space, shuttle)  0.000229\n",
       "17       (solar, system)  0.000226\n",
       "18                (p, x)  0.000216\n",
       "19        (source, code)  0.000210"
      ]
     },
     "execution_count": 6,
     "metadata": {},
     "output_type": "execute_result"
    }
   ],
   "source": [
    "finder = BigramCollocationFinder.from_words(filteredWords)\n",
    "finder.apply_freq_filter(5)\n",
    "scored_words_rawFreq = finder.score_ngrams(bigram_measures.raw_freq)\n",
    "\n",
    "# create dataframe and sort tuple on basis of score in descending order\n",
    "dfFreq = pd.DataFrame(\n",
    "            list(scored_words_rawFreq), \n",
    "            columns=['bigram','raw_freq']).sort_values(by='raw_freq', ascending=False)[0:20].reset_index(drop=True)\n",
    "dfFreq[0:20]"
   ]
  },
  {
   "cell_type": "code",
   "execution_count": 7,
   "metadata": {},
   "outputs": [
    {
     "data": {
      "text/html": [
       "<div>\n",
       "<style scoped>\n",
       "    .dataframe tbody tr th:only-of-type {\n",
       "        vertical-align: middle;\n",
       "    }\n",
       "\n",
       "    .dataframe tbody tr th {\n",
       "        vertical-align: top;\n",
       "    }\n",
       "\n",
       "    .dataframe thead th {\n",
       "        text-align: right;\n",
       "    }\n",
       "</style>\n",
       "<table border=\"1\" class=\"dataframe\">\n",
       "  <thead>\n",
       "    <tr style=\"text-align: right;\">\n",
       "      <th></th>\n",
       "      <th>bigram</th>\n",
       "      <th>chi_sq</th>\n",
       "    </tr>\n",
       "  </thead>\n",
       "  <tbody>\n",
       "    <tr>\n",
       "      <th>0</th>\n",
       "      <td>(aatdb, arabidopsis)</td>\n",
       "      <td>371026.0</td>\n",
       "    </tr>\n",
       "    <tr>\n",
       "      <th>1</th>\n",
       "      <td>(paronoid, moromn)</td>\n",
       "      <td>371026.0</td>\n",
       "    </tr>\n",
       "    <tr>\n",
       "      <th>2</th>\n",
       "      <td>(papsttums, droemer)</td>\n",
       "      <td>371026.0</td>\n",
       "    </tr>\n",
       "    <tr>\n",
       "      <th>3</th>\n",
       "      <td>(pacman, visicalc)</td>\n",
       "      <td>371026.0</td>\n",
       "    </tr>\n",
       "    <tr>\n",
       "      <th>4</th>\n",
       "      <td>(overige, sprekers)</td>\n",
       "      <td>371026.0</td>\n",
       "    </tr>\n",
       "    <tr>\n",
       "      <th>5</th>\n",
       "      <td>(overbearing, totalitarianists)</td>\n",
       "      <td>371026.0</td>\n",
       "    </tr>\n",
       "    <tr>\n",
       "      <th>6</th>\n",
       "      <td>(oveo, vegetarians)</td>\n",
       "      <td>371026.0</td>\n",
       "    </tr>\n",
       "    <tr>\n",
       "      <th>7</th>\n",
       "      <td>(outgassing, breakup)</td>\n",
       "      <td>371026.0</td>\n",
       "    </tr>\n",
       "    <tr>\n",
       "      <th>8</th>\n",
       "      <td>(outcasts, mainline)</td>\n",
       "      <td>371026.0</td>\n",
       "    </tr>\n",
       "    <tr>\n",
       "      <th>9</th>\n",
       "      <td>(othe, optimisations)</td>\n",
       "      <td>371026.0</td>\n",
       "    </tr>\n",
       "    <tr>\n",
       "      <th>10</th>\n",
       "      <td>(otc, plt)</td>\n",
       "      <td>371026.0</td>\n",
       "    </tr>\n",
       "    <tr>\n",
       "      <th>11</th>\n",
       "      <td>(osman, basbugoglu)</td>\n",
       "      <td>371026.0</td>\n",
       "    </tr>\n",
       "    <tr>\n",
       "      <th>12</th>\n",
       "      <td>(ork, groink)</td>\n",
       "      <td>371026.0</td>\n",
       "    </tr>\n",
       "    <tr>\n",
       "      <th>13</th>\n",
       "      <td>(ores, mined)</td>\n",
       "      <td>371026.0</td>\n",
       "    </tr>\n",
       "    <tr>\n",
       "      <th>14</th>\n",
       "      <td>(orbcom, fdm)</td>\n",
       "      <td>371026.0</td>\n",
       "    </tr>\n",
       "    <tr>\n",
       "      <th>15</th>\n",
       "      <td>(opvolgers, voerden)</td>\n",
       "      <td>371026.0</td>\n",
       "    </tr>\n",
       "    <tr>\n",
       "      <th>16</th>\n",
       "      <td>(opvolgende, scherp)</td>\n",
       "      <td>371026.0</td>\n",
       "    </tr>\n",
       "    <tr>\n",
       "      <th>17</th>\n",
       "      <td>(optique, atmospherique)</td>\n",
       "      <td>371026.0</td>\n",
       "    </tr>\n",
       "    <tr>\n",
       "      <th>18</th>\n",
       "      <td>(oprah, winfrey)</td>\n",
       "      <td>371026.0</td>\n",
       "    </tr>\n",
       "    <tr>\n",
       "      <th>19</th>\n",
       "      <td>(opgebouwd, rond)</td>\n",
       "      <td>371026.0</td>\n",
       "    </tr>\n",
       "  </tbody>\n",
       "</table>\n",
       "</div>"
      ],
      "text/plain": [
       "                             bigram    chi_sq\n",
       "0              (aatdb, arabidopsis)  371026.0\n",
       "1                (paronoid, moromn)  371026.0\n",
       "2              (papsttums, droemer)  371026.0\n",
       "3                (pacman, visicalc)  371026.0\n",
       "4               (overige, sprekers)  371026.0\n",
       "5   (overbearing, totalitarianists)  371026.0\n",
       "6               (oveo, vegetarians)  371026.0\n",
       "7             (outgassing, breakup)  371026.0\n",
       "8              (outcasts, mainline)  371026.0\n",
       "9             (othe, optimisations)  371026.0\n",
       "10                       (otc, plt)  371026.0\n",
       "11              (osman, basbugoglu)  371026.0\n",
       "12                    (ork, groink)  371026.0\n",
       "13                    (ores, mined)  371026.0\n",
       "14                    (orbcom, fdm)  371026.0\n",
       "15             (opvolgers, voerden)  371026.0\n",
       "16             (opvolgende, scherp)  371026.0\n",
       "17         (optique, atmospherique)  371026.0\n",
       "18                 (oprah, winfrey)  371026.0\n",
       "19                (opgebouwd, rond)  371026.0"
      ]
     },
     "execution_count": 7,
     "metadata": {},
     "output_type": "execute_result"
    }
   ],
   "source": [
    "finder = BigramCollocationFinder.from_words(filteredWords)\n",
    "scored_words_chiSq = finder.score_ngrams(bigram_measures.chi_sq)\n",
    "\n",
    "# create dataframe and sort tuple on basis of score in descending order\n",
    "dfChiSq = pd.DataFrame(\n",
    "            list(scored_words_chiSq), \n",
    "            columns=['bigram','chi_sq']).sort_values(by='chi_sq', ascending=False)[0:20].reset_index(drop=True)\n",
    "dfChiSq[0:20]"
   ]
  },
  {
   "cell_type": "code",
   "execution_count": 8,
   "metadata": {},
   "outputs": [
    {
     "data": {
      "text/html": [
       "<div>\n",
       "<style scoped>\n",
       "    .dataframe tbody tr th:only-of-type {\n",
       "        vertical-align: middle;\n",
       "    }\n",
       "\n",
       "    .dataframe tbody tr th {\n",
       "        vertical-align: top;\n",
       "    }\n",
       "\n",
       "    .dataframe thead th {\n",
       "        text-align: right;\n",
       "    }\n",
       "</style>\n",
       "<table border=\"1\" class=\"dataframe\">\n",
       "  <thead>\n",
       "    <tr style=\"text-align: right;\">\n",
       "      <th></th>\n",
       "      <th>bigram</th>\n",
       "      <th>t</th>\n",
       "    </tr>\n",
       "  </thead>\n",
       "  <tbody>\n",
       "    <tr>\n",
       "      <th>0</th>\n",
       "      <td>(can, not)</td>\n",
       "      <td>14.134512</td>\n",
       "    </tr>\n",
       "    <tr>\n",
       "      <th>1</th>\n",
       "      <td>(e, mail)</td>\n",
       "      <td>13.689872</td>\n",
       "    </tr>\n",
       "    <tr>\n",
       "      <th>2</th>\n",
       "      <td>(nasa, gov)</td>\n",
       "      <td>11.971926</td>\n",
       "    </tr>\n",
       "    <tr>\n",
       "      <th>3</th>\n",
       "      <td>(anonymous, ftp)</td>\n",
       "      <td>11.295238</td>\n",
       "    </tr>\n",
       "    <tr>\n",
       "      <th>4</th>\n",
       "      <td>(image, processing)</td>\n",
       "      <td>11.293889</td>\n",
       "    </tr>\n",
       "    <tr>\n",
       "      <th>5</th>\n",
       "      <td>(tar, z)</td>\n",
       "      <td>10.805328</td>\n",
       "    </tr>\n",
       "    <tr>\n",
       "      <th>6</th>\n",
       "      <td>(would, like)</td>\n",
       "      <td>10.729529</td>\n",
       "    </tr>\n",
       "    <tr>\n",
       "      <th>7</th>\n",
       "      <td>(computer, graphics)</td>\n",
       "      <td>10.644014</td>\n",
       "    </tr>\n",
       "    <tr>\n",
       "      <th>8</th>\n",
       "      <td>(p, p)</td>\n",
       "      <td>10.600301</td>\n",
       "    </tr>\n",
       "    <tr>\n",
       "      <th>9</th>\n",
       "      <td>(edu, pub)</td>\n",
       "      <td>9.721684</td>\n",
       "    </tr>\n",
       "    <tr>\n",
       "      <th>10</th>\n",
       "      <td>(alt, atheism)</td>\n",
       "      <td>9.681125</td>\n",
       "    </tr>\n",
       "    <tr>\n",
       "      <th>11</th>\n",
       "      <td>(lord, jehovah)</td>\n",
       "      <td>9.630402</td>\n",
       "    </tr>\n",
       "    <tr>\n",
       "      <th>12</th>\n",
       "      <td>(space, station)</td>\n",
       "      <td>9.361056</td>\n",
       "    </tr>\n",
       "    <tr>\n",
       "      <th>13</th>\n",
       "      <td>(mit, edu)</td>\n",
       "      <td>9.186867</td>\n",
       "    </tr>\n",
       "    <tr>\n",
       "      <th>14</th>\n",
       "      <td>(comp, graphics)</td>\n",
       "      <td>9.180831</td>\n",
       "    </tr>\n",
       "    <tr>\n",
       "      <th>15</th>\n",
       "      <td>(solar, system)</td>\n",
       "      <td>9.105521</td>\n",
       "    </tr>\n",
       "    <tr>\n",
       "      <th>16</th>\n",
       "      <td>(space, shuttle)</td>\n",
       "      <td>9.084024</td>\n",
       "    </tr>\n",
       "    <tr>\n",
       "      <th>17</th>\n",
       "      <td>(many, people)</td>\n",
       "      <td>8.970875</td>\n",
       "    </tr>\n",
       "    <tr>\n",
       "      <th>18</th>\n",
       "      <td>(source, code)</td>\n",
       "      <td>8.806218</td>\n",
       "    </tr>\n",
       "    <tr>\n",
       "      <th>19</th>\n",
       "      <td>(p, x)</td>\n",
       "      <td>8.757539</td>\n",
       "    </tr>\n",
       "  </tbody>\n",
       "</table>\n",
       "</div>"
      ],
      "text/plain": [
       "                  bigram          t\n",
       "0             (can, not)  14.134512\n",
       "1              (e, mail)  13.689872\n",
       "2            (nasa, gov)  11.971926\n",
       "3       (anonymous, ftp)  11.295238\n",
       "4    (image, processing)  11.293889\n",
       "5               (tar, z)  10.805328\n",
       "6          (would, like)  10.729529\n",
       "7   (computer, graphics)  10.644014\n",
       "8                 (p, p)  10.600301\n",
       "9             (edu, pub)   9.721684\n",
       "10        (alt, atheism)   9.681125\n",
       "11       (lord, jehovah)   9.630402\n",
       "12      (space, station)   9.361056\n",
       "13            (mit, edu)   9.186867\n",
       "14      (comp, graphics)   9.180831\n",
       "15       (solar, system)   9.105521\n",
       "16      (space, shuttle)   9.084024\n",
       "17        (many, people)   8.970875\n",
       "18        (source, code)   8.806218\n",
       "19                (p, x)   8.757539"
      ]
     },
     "execution_count": 8,
     "metadata": {},
     "output_type": "execute_result"
    }
   ],
   "source": [
    "finder = BigramCollocationFinder.from_words(filteredWords)\n",
    "finder.apply_freq_filter(5)\n",
    "scored_words_studentt = finder.score_ngrams(bigram_measures.student_t)\n",
    "\n",
    "# create dataframe and sort tuple on basis of score in descending order\n",
    "dft = pd.DataFrame(\n",
    "        list(scored_words_studentt), \n",
    "        columns=['bigram','t']).sort_values(by='t', ascending=False)[0:20].reset_index(drop=True)\n",
    "dft[0:20]"
   ]
  },
  {
   "cell_type": "markdown",
   "metadata": {},
   "source": [
    "#### c) Checking the overlap among techniques\n",
    "\n",
    "The PMI and chi-square yield better result, and their values are quite same. Also, t_test and raw_frequecy techniques has shown quite same results.\n",
    "\n",
    "#### Do you think it makes sense to consider the union of the results?\n",
    "\n",
    "We can take union of these techniques to take benifit from diverse results. For instance, the PMI technique works on probablity of word co-occurrences while raw_frequence technique works on frequency of occurrences. Taking union of results of both techniques will make collocations more effective.  \n",
    "\n"
   ]
  },
  {
   "cell_type": "code",
   "execution_count": 9,
   "metadata": {},
   "outputs": [
    {
     "data": {
      "text/html": [
       "<div>\n",
       "<style scoped>\n",
       "    .dataframe tbody tr th:only-of-type {\n",
       "        vertical-align: middle;\n",
       "    }\n",
       "\n",
       "    .dataframe tbody tr th {\n",
       "        vertical-align: top;\n",
       "    }\n",
       "\n",
       "    .dataframe thead th {\n",
       "        text-align: right;\n",
       "    }\n",
       "</style>\n",
       "<table border=\"1\" class=\"dataframe\">\n",
       "  <thead>\n",
       "    <tr style=\"text-align: right;\">\n",
       "      <th></th>\n",
       "      <th>PMI</th>\n",
       "      <th>Chi_sq</th>\n",
       "      <th>student_t (t_test)</th>\n",
       "      <th>raw_frequency</th>\n",
       "    </tr>\n",
       "  </thead>\n",
       "  <tbody>\n",
       "    <tr>\n",
       "      <th>0</th>\n",
       "      <td>(aatdb, arabidopsis)</td>\n",
       "      <td>(aatdb, arabidopsis)</td>\n",
       "      <td>(can, not)</td>\n",
       "      <td>(can, not)</td>\n",
       "    </tr>\n",
       "    <tr>\n",
       "      <th>1</th>\n",
       "      <td>(planetenproject, programmeert)</td>\n",
       "      <td>(paronoid, moromn)</td>\n",
       "      <td>(e, mail)</td>\n",
       "      <td>(e, mail)</td>\n",
       "    </tr>\n",
       "    <tr>\n",
       "      <th>2</th>\n",
       "      <td>(perfecetly, reasoable)</td>\n",
       "      <td>(papsttums, droemer)</td>\n",
       "      <td>(nasa, gov)</td>\n",
       "      <td>(nasa, gov)</td>\n",
       "    </tr>\n",
       "    <tr>\n",
       "      <th>3</th>\n",
       "      <td>(pepvax, pepperdine)</td>\n",
       "      <td>(pacman, visicalc)</td>\n",
       "      <td>(anonymous, ftp)</td>\n",
       "      <td>(image, processing)</td>\n",
       "    </tr>\n",
       "    <tr>\n",
       "      <th>4</th>\n",
       "      <td>(pentacost, hymn)</td>\n",
       "      <td>(overige, sprekers)</td>\n",
       "      <td>(image, processing)</td>\n",
       "      <td>(anonymous, ftp)</td>\n",
       "    </tr>\n",
       "    <tr>\n",
       "      <th>5</th>\n",
       "      <td>(pelletized, ceramic)</td>\n",
       "      <td>(overbearing, totalitarianists)</td>\n",
       "      <td>(tar, z)</td>\n",
       "      <td>(would, like)</td>\n",
       "    </tr>\n",
       "    <tr>\n",
       "      <th>6</th>\n",
       "      <td>(pekka, himanen)</td>\n",
       "      <td>(oveo, vegetarians)</td>\n",
       "      <td>(would, like)</td>\n",
       "      <td>(tar, z)</td>\n",
       "    </tr>\n",
       "    <tr>\n",
       "      <th>7</th>\n",
       "      <td>(peacefully, enjoin)</td>\n",
       "      <td>(outgassing, breakup)</td>\n",
       "      <td>(computer, graphics)</td>\n",
       "      <td>(computer, graphics)</td>\n",
       "    </tr>\n",
       "    <tr>\n",
       "      <th>8</th>\n",
       "      <td>(patrimony, zorastrian)</td>\n",
       "      <td>(outcasts, mainline)</td>\n",
       "      <td>(p, p)</td>\n",
       "      <td>(p, p)</td>\n",
       "    </tr>\n",
       "    <tr>\n",
       "      <th>9</th>\n",
       "      <td>(passel, sterile)</td>\n",
       "      <td>(othe, optimisations)</td>\n",
       "      <td>(edu, pub)</td>\n",
       "      <td>(edu, pub)</td>\n",
       "    </tr>\n",
       "    <tr>\n",
       "      <th>10</th>\n",
       "      <td>(particularities, aam)</td>\n",
       "      <td>(otc, plt)</td>\n",
       "      <td>(alt, atheism)</td>\n",
       "      <td>(alt, atheism)</td>\n",
       "    </tr>\n",
       "    <tr>\n",
       "      <th>11</th>\n",
       "      <td>(parti, cipant)</td>\n",
       "      <td>(osman, basbugoglu)</td>\n",
       "      <td>(lord, jehovah)</td>\n",
       "      <td>(lord, jehovah)</td>\n",
       "    </tr>\n",
       "    <tr>\n",
       "      <th>12</th>\n",
       "      <td>(partake, joyously)</td>\n",
       "      <td>(ork, groink)</td>\n",
       "      <td>(space, station)</td>\n",
       "      <td>(space, station)</td>\n",
       "    </tr>\n",
       "    <tr>\n",
       "      <th>13</th>\n",
       "      <td>(paronoid, moromn)</td>\n",
       "      <td>(ores, mined)</td>\n",
       "      <td>(mit, edu)</td>\n",
       "      <td>(many, people)</td>\n",
       "    </tr>\n",
       "    <tr>\n",
       "      <th>14</th>\n",
       "      <td>(parabola, queasiness)</td>\n",
       "      <td>(orbcom, fdm)</td>\n",
       "      <td>(comp, graphics)</td>\n",
       "      <td>(comp, graphics)</td>\n",
       "    </tr>\n",
       "    <tr>\n",
       "      <th>15</th>\n",
       "      <td>(pacman, visicalc)</td>\n",
       "      <td>(opvolgers, voerden)</td>\n",
       "      <td>(solar, system)</td>\n",
       "      <td>(mit, edu)</td>\n",
       "    </tr>\n",
       "    <tr>\n",
       "      <th>16</th>\n",
       "      <td>(overige, sprekers)</td>\n",
       "      <td>(opvolgende, scherp)</td>\n",
       "      <td>(space, shuttle)</td>\n",
       "      <td>(space, shuttle)</td>\n",
       "    </tr>\n",
       "    <tr>\n",
       "      <th>17</th>\n",
       "      <td>(overbearing, totalitarianists)</td>\n",
       "      <td>(optique, atmospherique)</td>\n",
       "      <td>(many, people)</td>\n",
       "      <td>(solar, system)</td>\n",
       "    </tr>\n",
       "    <tr>\n",
       "      <th>18</th>\n",
       "      <td>(oveo, vegetarians)</td>\n",
       "      <td>(oprah, winfrey)</td>\n",
       "      <td>(source, code)</td>\n",
       "      <td>(p, x)</td>\n",
       "    </tr>\n",
       "    <tr>\n",
       "      <th>19</th>\n",
       "      <td>(periterr, pericynthion)</td>\n",
       "      <td>(opgebouwd, rond)</td>\n",
       "      <td>(p, x)</td>\n",
       "      <td>(source, code)</td>\n",
       "    </tr>\n",
       "  </tbody>\n",
       "</table>\n",
       "</div>"
      ],
      "text/plain": [
       "                                PMI                           Chi_sq  \\\n",
       "0              (aatdb, arabidopsis)             (aatdb, arabidopsis)   \n",
       "1   (planetenproject, programmeert)               (paronoid, moromn)   \n",
       "2           (perfecetly, reasoable)             (papsttums, droemer)   \n",
       "3              (pepvax, pepperdine)               (pacman, visicalc)   \n",
       "4                 (pentacost, hymn)              (overige, sprekers)   \n",
       "5             (pelletized, ceramic)  (overbearing, totalitarianists)   \n",
       "6                  (pekka, himanen)              (oveo, vegetarians)   \n",
       "7              (peacefully, enjoin)            (outgassing, breakup)   \n",
       "8           (patrimony, zorastrian)             (outcasts, mainline)   \n",
       "9                 (passel, sterile)            (othe, optimisations)   \n",
       "10           (particularities, aam)                       (otc, plt)   \n",
       "11                  (parti, cipant)              (osman, basbugoglu)   \n",
       "12              (partake, joyously)                    (ork, groink)   \n",
       "13               (paronoid, moromn)                    (ores, mined)   \n",
       "14           (parabola, queasiness)                    (orbcom, fdm)   \n",
       "15               (pacman, visicalc)             (opvolgers, voerden)   \n",
       "16              (overige, sprekers)             (opvolgende, scherp)   \n",
       "17  (overbearing, totalitarianists)         (optique, atmospherique)   \n",
       "18              (oveo, vegetarians)                 (oprah, winfrey)   \n",
       "19         (periterr, pericynthion)                (opgebouwd, rond)   \n",
       "\n",
       "      student_t (t_test)         raw_frequency  \n",
       "0             (can, not)            (can, not)  \n",
       "1              (e, mail)             (e, mail)  \n",
       "2            (nasa, gov)           (nasa, gov)  \n",
       "3       (anonymous, ftp)   (image, processing)  \n",
       "4    (image, processing)      (anonymous, ftp)  \n",
       "5               (tar, z)         (would, like)  \n",
       "6          (would, like)              (tar, z)  \n",
       "7   (computer, graphics)  (computer, graphics)  \n",
       "8                 (p, p)                (p, p)  \n",
       "9             (edu, pub)            (edu, pub)  \n",
       "10        (alt, atheism)        (alt, atheism)  \n",
       "11       (lord, jehovah)       (lord, jehovah)  \n",
       "12      (space, station)      (space, station)  \n",
       "13            (mit, edu)        (many, people)  \n",
       "14      (comp, graphics)      (comp, graphics)  \n",
       "15       (solar, system)            (mit, edu)  \n",
       "16      (space, shuttle)      (space, shuttle)  \n",
       "17        (many, people)       (solar, system)  \n",
       "18        (source, code)                (p, x)  \n",
       "19                (p, x)        (source, code)  "
      ]
     },
     "execution_count": 9,
     "metadata": {},
     "output_type": "execute_result"
    }
   ],
   "source": [
    "#create a new dataframe and checking overlapping (common) values\n",
    "bigramResult=pd.DataFrame()\n",
    "bigramResult['PMI']=dfPMI['bigram']\n",
    "bigramResult['Chi_sq']=dfChiSq['bigram']\n",
    "bigramResult['student_t (t_test)']=dft['bigram']\n",
    "bigramResult['raw_frequency']=dfFreq['bigram']\n",
    "\n",
    "bigramResult[0:20]"
   ]
  },
  {
   "cell_type": "markdown",
   "metadata": {},
   "source": [
    "### 2) SVM and NB for Text Classification\n",
    "\n",
    "#### a) Cleaning the text (removal of stopwords, number and non-letter characters) and Stemming"
   ]
  },
  {
   "cell_type": "code",
   "execution_count": 10,
   "metadata": {},
   "outputs": [],
   "source": [
    "index=0\n",
    "for news in newsgroups.data:\n",
    "    #retain only alphabetical data (remove numbers and non letter characters)\n",
    "    newsgroups.data[index] = re.sub(r\"[^a-zA-Z]+\", ' ',news)\n",
    "    #convert news to lower case\n",
    "    newsgroups.data[index] = newsgroups.data[index].lower() \n",
    "    #remove stop words\n",
    "    newsgroups.data[index] = ' '.join([word for word in newsgroups.data[index].split() if word not in stop_words])\n",
    "    #stem the words\n",
    "    newsgroups.data[index] = ' '.join([stemmer.stem(word) for word in newsgroups.data[index].split()])\n",
    "    index=index+1"
   ]
  },
  {
   "cell_type": "markdown",
   "metadata": {},
   "source": [
    "#### b) Converting the corpus into a bag-of-words tf-idf weighted vector representation"
   ]
  },
  {
   "cell_type": "code",
   "execution_count": 11,
   "metadata": {},
   "outputs": [],
   "source": [
    "#Converting corpus into tfidf\n",
    "tfidf_vectorizer = TfidfVectorizer()\n",
    "X_train_tfidf = tfidf_vectorizer.fit_transform(newsgroups.data)\n",
    "sizeOfVocabularyBefore = len(tfidf_vectorizer.vocabulary_)"
   ]
  },
  {
   "cell_type": "markdown",
   "metadata": {},
   "source": [
    "#### c) Spliting the data randomly into training and testing set"
   ]
  },
  {
   "cell_type": "code",
   "execution_count": 12,
   "metadata": {},
   "outputs": [],
   "source": [
    "#split data in 30% Test and 70% Train\n",
    "X_train, X_test, y_train, y_test = train_test_split(X_train_tfidf,newsgroups.target, test_size=0.3,random_state=42)"
   ]
  },
  {
   "cell_type": "markdown",
   "metadata": {},
   "source": [
    "#### Training SVM and Reporting confusion matrix\n",
    "##### Choice of Hyperparameters\n",
    "For finding optimal hyperparameters, grid search is used. The reasons for hyperparameter range selection is mentioned below. \n",
    "- In sigmoid and rbf kernel, i have set gamma between 1e-2 and 1e-4. Gamma parameter is only used for non-linear hyperplanes, therefore it is not considered for linear kernal. When the gamma value increases, the training data points has more influence on decision boundary and may result in overfitting. I have set the range of gamma in negative exponential values to prevent overfitting.\n",
    "- In sigmoid, linear and rbf kernel, there are different range of 'C' parameters were passed. The 'C' parameters tune model to avoid misclassification.  The greater the value of 'C' then smaller margin in hyperplane will be accepted. Contrarily, the lower value of 'C' results in the larger margin, but it will cost the accuracy [2].\n",
    "- In Multinomial NB, alpha and fit-prior parameters are used. The alpha is smoothing parameter which controls the form of model and the value is set within range of 0.1 and 2. The other parameter fit-prior is a boolean parameter which is used to decide whether to learn class probablities or not [3]."
   ]
  },
  {
   "cell_type": "code",
   "execution_count": 13,
   "metadata": {},
   "outputs": [
    {
     "name": "stdout",
     "output_type": "stream",
     "text": [
      "Accuracy : 80.92428711897739\n",
      "Confusion Matrix : \n",
      " [[162   4  21  37]\n",
      " [  4 268  25   0]\n",
      " [ 13  10 280   4]\n",
      " [ 44   4  28 113]]\n"
     ]
    },
    {
     "data": {
      "text/plain": [
       "<matplotlib.axes._subplots.AxesSubplot at 0x2946615df60>"
      ]
     },
     "execution_count": 13,
     "metadata": {},
     "output_type": "execute_result"
    },
    {
     "data": {
      "image/png": "[encoded data removed]",
      "text/plain": [
       "<Figure size 432x432 with 2 Axes>"
      ]
     },
     "metadata": {
      "needs_background": "light"
     },
     "output_type": "display_data"
    }
   ],
   "source": [
    "#I am using gridsearch to find the optimal hyperparameters\n",
    "grid_param={'C':[5,10,100,500,1000],'kernel':['linear']}\n",
    "clf_svm_linear = GridSearchCV(SVC(kernel='linear'),param_grid=grid_param,cv=5,n_jobs=-1)\n",
    "clf_svm_linear.fit(X_train, y_train)\n",
    "predicted_svm_linear = clf_svm_linear.predict(X_test)\n",
    "\n",
    "accuracy_linear_before = np.mean(predicted_svm_linear == y_test)*100\n",
    "print(\"Accuracy : \"+str((np.mean(predicted_svm_linear == y_test)*100))) \n",
    "print(\"Confusion Matrix : \\n\", metrics.confusion_matrix(y_test, predicted_svm_linear))\n",
    "\n",
    "sciplt.metrics.plot_confusion_matrix(y_test,predicted_svm_linear,figsize=(6,6))"
   ]
  },
  {
   "cell_type": "code",
   "execution_count": 14,
   "metadata": {},
   "outputs": [
    {
     "name": "stdout",
     "output_type": "stream",
     "text": [
      "Accuracy : 81.21927236971484\n",
      "Confusion Matrix : \n",
      " [[165   5  20  34]\n",
      " [  5 271  21   0]\n",
      " [  9  15 280   3]\n",
      " [ 52   5  22 110]]\n"
     ]
    },
    {
     "data": {
      "text/plain": [
       "<matplotlib.axes._subplots.AxesSubplot at 0x29464dde828>"
      ]
     },
     "execution_count": 14,
     "metadata": {},
     "output_type": "execute_result"
    },
    {
     "data": {
      "image/png": "[encoded data removed]",
      "text/plain": [
       "<Figure size 432x432 with 2 Axes>"
      ]
     },
     "metadata": {
      "needs_background": "light"
     },
     "output_type": "display_data"
    }
   ],
   "source": [
    "grid_param={'gamma': [1e-2,1e-3,1e-4],'C':[100,500,1000],'kernel':['sigmoid']}\n",
    "clf_svm_sigmoid = GridSearchCV(SVC(kernel='sigmoid'),param_grid=grid_param,cv=5,n_jobs=-1)\n",
    "clf_svm_sigmoid.fit(X_train, y_train)\n",
    "predicted_svm_sigmoid = clf_svm_sigmoid.predict(X_test)\n",
    "\n",
    "accuracy_sigmoid_before = np.mean(predicted_svm_sigmoid == y_test)*100\n",
    "print(\"Accuracy : \"+str((np.mean(predicted_svm_sigmoid == y_test)*100))) \n",
    "print(\"Confusion Matrix : \\n\", metrics.confusion_matrix(y_test, predicted_svm_sigmoid))\n",
    "\n",
    "sciplt.metrics.plot_confusion_matrix(y_test,predicted_svm_sigmoid,figsize=(6,6))"
   ]
  },
  {
   "cell_type": "code",
   "execution_count": 15,
   "metadata": {},
   "outputs": [
    {
     "name": "stdout",
     "output_type": "stream",
     "text": [
      "Accuracy : 81.31760078662734\n",
      "Confusion Matrix : \n",
      " [[164   4  17  39]\n",
      " [  4 271  22   0]\n",
      " [ 13  13 276   5]\n",
      " [ 46   4  23 116]]\n"
     ]
    },
    {
     "data": {
      "text/plain": [
       "<matplotlib.axes._subplots.AxesSubplot at 0x294659fc198>"
      ]
     },
     "execution_count": 15,
     "metadata": {},
     "output_type": "execute_result"
    },
    {
     "data": {
      "image/png": "[encoded data removed]",
      "text/plain": [
       "<Figure size 432x432 with 2 Axes>"
      ]
     },
     "metadata": {
      "needs_background": "light"
     },
     "output_type": "display_data"
    }
   ],
   "source": [
    "grid_param={'C':[100],'gamma':[1e-2],'kernel':['rbf']}\n",
    "clf_svm_rbf = GridSearchCV(SVC(kernel='rbf'),param_grid=grid_param,cv=5,n_jobs=-1)\n",
    "clf_svm_rbf.fit(X_train, y_train)\n",
    "predicted_svm_rbf = clf_svm_rbf.predict(X_test)\n",
    "\n",
    "accuracy_rbf_before = np.mean(predicted_svm_rbf == y_test)*100\n",
    "print(\"Accuracy : \"+str((np.mean(predicted_svm_rbf == y_test)*100))) \n",
    "print(\"Confusion Matrix : \\n\", metrics.confusion_matrix(y_test, predicted_svm_rbf))\n",
    "\n",
    "sciplt.metrics.plot_confusion_matrix(y_test,predicted_svm_rbf,figsize=(6,6))"
   ]
  },
  {
   "cell_type": "markdown",
   "metadata": {},
   "source": [
    "#### Training Multinomial NB and report confusion matrix"
   ]
  },
  {
   "cell_type": "code",
   "execution_count": 16,
   "metadata": {},
   "outputs": [
    {
     "name": "stdout",
     "output_type": "stream",
     "text": [
      "Accuracy : 84.070796460177\n",
      "Confusion Matrix : \n",
      " [[179   3   5  37]\n",
      " [ 12 279   4   2]\n",
      " [ 23  17 260   7]\n",
      " [ 41   5   6 137]]\n"
     ]
    },
    {
     "data": {
      "text/plain": [
       "<matplotlib.axes._subplots.AxesSubplot at 0x294656f20f0>"
      ]
     },
     "execution_count": 16,
     "metadata": {},
     "output_type": "execute_result"
    },
    {
     "data": {
      "image/png": "[encoded data removed]",
      "text/plain": [
       "<Figure size 432x432 with 2 Axes>"
      ]
     },
     "metadata": {
      "needs_background": "light"
     },
     "output_type": "display_data"
    }
   ],
   "source": [
    "grid_param={'alpha':np.linspace(0.1,2,num=10),'fit_prior':[True,False]}\n",
    "clf_nb = GridSearchCV(MultinomialNB(),param_grid=grid_param,cv=5,n_jobs=-1)\n",
    "clf_nb.fit(X_train,y_train)\n",
    "predicted_nb = clf_nb.predict(X_test)\n",
    "\n",
    "accuracy_nb_before = np.mean(predicted_nb == y_test)*100\n",
    "print(\"Accuracy : \"+str((np.mean(predicted_nb == y_test)*100))) \n",
    "print(\"Confusion Matrix : \\n\", metrics.confusion_matrix(y_test, predicted_nb))\n",
    "\n",
    "sciplt.metrics.plot_confusion_matrix(y_test,predicted_nb,figsize=(6,6))"
   ]
  },
  {
   "cell_type": "markdown",
   "metadata": {},
   "source": [
    "#### Which algorithm has higher accuracy and why? \n",
    "Multonomial Naive Bayes (MNB) has shown highest accuracy of 84.07%. One reason that MNB is performing better is due to size documents. MNB works well with snippets datasets, which contains documents with lesser number of words. While SVMs tend to work well with full review datasets [1].  \n",
    "#### Does changing the kernel of the SVM change the accuracy or decrease confusion between classes?\n",
    "The linear and sigmoid kernals has shown accuracy of 80.92% and 81.21% respectively. When switched to RBF kernal, the accuracy slightly increased accuracy to 81.31%. The RBF kernel performed better than Linear and Sigmoid, also there is slight decrease in confusion between classes in RBF kernel. "
   ]
  },
  {
   "cell_type": "code",
   "execution_count": 17,
   "metadata": {},
   "outputs": [
    {
     "data": {
      "image/png": "[encoded data removed]",
      "text/plain": [
       "<Figure size 432x288 with 1 Axes>"
      ]
     },
     "metadata": {
      "needs_background": "light"
     },
     "output_type": "display_data"
    }
   ],
   "source": [
    "#Plotting accuracies of all algorithms\n",
    "before_data  = (accuracy_linear_before, accuracy_sigmoid_before, accuracy_rbf_before,accuracy_nb_before)\n",
    "\n",
    "ind = np.arange(len(before_data)) \n",
    "\n",
    "width = 0.4\n",
    "fig, ax = plt.subplots()\n",
    "rects1 = ax.bar(ind - width/2, before_data, width)\n",
    "\n",
    "ax.set_ylabel('Accuracy (%)')\n",
    "ax.set_title('Comparing Accurracy of all algorithms')\n",
    "ax.set_xticks(ind)\n",
    "ax.set_xticklabels(('SVM (linear)', 'SVM (sigmoid)', 'SVM (rbf)', 'Multinomial NB'))\n",
    "\n",
    "fig.tight_layout()\n",
    "\n",
    "plt.show()"
   ]
  },
  {
   "cell_type": "markdown",
   "metadata": {},
   "source": [
    "#### d)  Extracting the nouns only to obtain a bag-of-words tf-idf weighted vector representation using only the nouns."
   ]
  },
  {
   "cell_type": "code",
   "execution_count": 19,
   "metadata": {},
   "outputs": [],
   "source": [
    "newsgroups = fetch_20newsgroups(categories=categories,subset='all',shuffle=True,remove=('headers', 'footers', 'quotes'))\n",
    "nounIdentifiers = [\"NN\",\"NNS\",\"NNP\",\"NNPS\"]\n",
    "index=0\n",
    "for news in newsgroups.data:\n",
    "    #retain only alphabetical data (remove numbers and special characters)\n",
    "    newsgroups.data[index] = re.sub(r\"[^a-zA-Z]+\", ' ',news)\n",
    "    #convert news to lower case\n",
    "    newsgroups.data[index] = newsgroups.data[index].lower() \n",
    "    #remove stop words\n",
    "    newsgroups.data[index] = ' '.join([word for word in newsgroups.data[index].split() if word not in stop_words]) \n",
    "    tokenized_words=word_tokenize(newsgroups.data[index])\n",
    "    tagged_words = nltk.pos_tag(tokenized_words)\n",
    "    filteredParagraph = ''\n",
    "    for word,identifier in tagged_words:\n",
    "        #check if nouns exist then append in string\n",
    "        if identifier in nounIdentifiers:\n",
    "            filteredParagraph = filteredParagraph+' '+word\n",
    "    #set the paragraph consist of noun only words to main dataset\n",
    "    newsgroups.data[index] = filteredParagraph\n",
    "    #stem the words\n",
    "    newsgroups.data[index] = ' '.join([stemmer.stem(word) for word in newsgroups.data[index].split()]) \n",
    "    index=index+1"
   ]
  },
  {
   "cell_type": "code",
   "execution_count": 20,
   "metadata": {},
   "outputs": [],
   "source": [
    "#Converting corpus into tfidf\n",
    "tfidf_vectorizer = TfidfVectorizer()\n",
    "X_train_tfidf = tfidf_vectorizer.fit_transform(newsgroups.data)\n",
    "sizeOfVocabularyAfter = len(tfidf_vectorizer.vocabulary_)"
   ]
  },
  {
   "cell_type": "code",
   "execution_count": 21,
   "metadata": {},
   "outputs": [],
   "source": [
    "#split data in 30% Test and 70% Train\n",
    "X_train, X_test, y_train, y_test = train_test_split(X_train_tfidf,newsgroups.target, test_size=0.3,random_state=42)"
   ]
  },
  {
   "cell_type": "code",
   "execution_count": 22,
   "metadata": {},
   "outputs": [
    {
     "name": "stdout",
     "output_type": "stream",
     "text": [
      "Accuracy : 78.85939036381514\n",
      "Confusion Matrix : \n",
      " [[165   3  22  34]\n",
      " [ 10 256  29   2]\n",
      " [ 10  15 273   9]\n",
      " [ 43   5  33 108]]\n"
     ]
    },
    {
     "data": {
      "text/plain": [
       "<matplotlib.axes._subplots.AxesSubplot at 0x29465faaef0>"
      ]
     },
     "execution_count": 22,
     "metadata": {},
     "output_type": "execute_result"
    },
    {
     "data": {
      "image/png": "[encoded data removed]",
      "text/plain": [
       "<Figure size 432x432 with 2 Axes>"
      ]
     },
     "metadata": {
      "needs_background": "light"
     },
     "output_type": "display_data"
    }
   ],
   "source": [
    "grid_param={'C':[1,5,10,20,50,100],'kernel':['linear']}\n",
    "clf_svm_linear = GridSearchCV(SVC(kernel='linear'),param_grid=grid_param,cv=5,n_jobs=-1)\n",
    "clf_svm_linear.fit(X_train, y_train)\n",
    "predicted_svm_linear = clf_svm_linear.predict(X_test)\n",
    "\n",
    "accuracy_linear_after = np.mean(predicted_svm_linear == y_test)*100\n",
    "print(\"Accuracy : \"+str((np.mean(predicted_svm_linear == y_test)*100))) \n",
    "print(\"Confusion Matrix : \\n\", metrics.confusion_matrix(y_test, predicted_svm_linear))\n",
    "\n",
    "sciplt.metrics.plot_confusion_matrix(y_test,predicted_svm_linear,figsize=(6,6))"
   ]
  },
  {
   "cell_type": "code",
   "execution_count": 23,
   "metadata": {},
   "outputs": [
    {
     "name": "stdout",
     "output_type": "stream",
     "text": [
      "Accuracy : 78.85939036381514\n",
      "Confusion Matrix : \n",
      " [[165   3  22  34]\n",
      " [ 10 256  29   2]\n",
      " [ 10  15 273   9]\n",
      " [ 43   5  33 108]]\n"
     ]
    },
    {
     "data": {
      "text/plain": [
       "<matplotlib.axes._subplots.AxesSubplot at 0x2945a2420f0>"
      ]
     },
     "execution_count": 23,
     "metadata": {},
     "output_type": "execute_result"
    },
    {
     "data": {
      "image/png": "[encoded data removed]",
      "text/plain": [
       "<Figure size 432x432 with 2 Axes>"
      ]
     },
     "metadata": {
      "needs_background": "light"
     },
     "output_type": "display_data"
    }
   ],
   "source": [
    "grid_param={'gamma': [1e-2,1e-3,1e-4],'C':[100,500,1000],'kernel':['sigmoid']}\n",
    "clf_svm_sigmoid = GridSearchCV(SVC(kernel='sigmoid'),param_grid=grid_param,cv=5,n_jobs=-1)\n",
    "clf_svm_sigmoid.fit(X_train, y_train)\n",
    "predicted_svm_sigmoid = clf_svm_sigmoid.predict(X_test)\n",
    "\n",
    "accuracy_sigmoid_after = np.mean(predicted_svm_sigmoid == y_test)*100\n",
    "print(\"Accuracy : \"+str((np.mean(predicted_svm_sigmoid == y_test)*100))) \n",
    "print(\"Confusion Matrix : \\n\", metrics.confusion_matrix(y_test, predicted_svm_sigmoid))\n",
    "\n",
    "sciplt.metrics.plot_confusion_matrix(y_test,predicted_svm_sigmoid,figsize=(6,6))"
   ]
  },
  {
   "cell_type": "code",
   "execution_count": 24,
   "metadata": {},
   "outputs": [
    {
     "name": "stdout",
     "output_type": "stream",
     "text": [
      "Accuracy : 78.76106194690266\n",
      "Confusion Matrix : \n",
      " [[165   4  22  33]\n",
      " [ 12 257  25   3]\n",
      " [ 11  14 271  11]\n",
      " [ 42   6  33 108]]\n"
     ]
    },
    {
     "data": {
      "text/plain": [
       "<matplotlib.axes._subplots.AxesSubplot at 0x29466047a90>"
      ]
     },
     "execution_count": 24,
     "metadata": {},
     "output_type": "execute_result"
    },
    {
     "data": {
      "image/png": "[encoded data removed]",
      "text/plain": [
       "<Figure size 432x432 with 2 Axes>"
      ]
     },
     "metadata": {
      "needs_background": "light"
     },
     "output_type": "display_data"
    }
   ],
   "source": [
    "grid_param={'C':[10,100,1000],'gamma':[1e-2,1e-3,1e-4],'kernel':['rbf']}\n",
    "clf_svm_rbf = GridSearchCV(SVC(kernel='rbf'),param_grid=grid_param,cv=5,n_jobs=-1)\n",
    "clf_svm_rbf.fit(X_train, y_train)\n",
    "predicted_svm_rbf = clf_svm_rbf.predict(X_test)\n",
    "\n",
    "accuracy_rbf_after = np.mean(predicted_svm_rbf == y_test)*100\n",
    "print(\"Accuracy : \"+str((np.mean(predicted_svm_rbf == y_test)*100))) \n",
    "print(\"Confusion Matrix : \\n\", metrics.confusion_matrix(y_test, predicted_svm_rbf))\n",
    "\n",
    "sciplt.metrics.plot_confusion_matrix(y_test,predicted_svm_rbf,figsize=(6,6))"
   ]
  },
  {
   "cell_type": "code",
   "execution_count": 25,
   "metadata": {},
   "outputs": [
    {
     "name": "stdout",
     "output_type": "stream",
     "text": [
      "Accuracy : 81.02261553588987\n",
      "Confusion Matrix : \n",
      " [[172   4  13  35]\n",
      " [  5 271  21   0]\n",
      " [ 13  19 269   6]\n",
      " [ 51   5  21 112]]\n"
     ]
    },
    {
     "data": {
      "text/plain": [
       "<matplotlib.axes._subplots.AxesSubplot at 0x29465743940>"
      ]
     },
     "execution_count": 25,
     "metadata": {},
     "output_type": "execute_result"
    },
    {
     "data": {
      "image/png": "[encoded data removed]",
      "text/plain": [
       "<Figure size 432x432 with 2 Axes>"
      ]
     },
     "metadata": {
      "needs_background": "light"
     },
     "output_type": "display_data"
    }
   ],
   "source": [
    "grid_param={'alpha':np.linspace(0.1,2,num=10),'fit_prior':[True,False]}\n",
    "clf_nb = GridSearchCV(MultinomialNB(),param_grid=grid_param,cv=5,n_jobs=-1)\n",
    "clf_nb.fit(X_train,y_train)\n",
    "predicted_nb = clf_nb.predict(X_test)\n",
    "\n",
    "accuracy_nb_after = np.mean(predicted_nb == y_test)*100\n",
    "print(\"Accuracy : \"+str((np.mean(predicted_nb == y_test)*100))) \n",
    "print(\"Confusion Matrix : \\n\", metrics.confusion_matrix(y_test, predicted_nb))\n",
    "\n",
    "sciplt.metrics.plot_confusion_matrix(y_test,predicted_nb,figsize=(6,6))"
   ]
  },
  {
   "cell_type": "markdown",
   "metadata": {},
   "source": [
    "#### How does this accuracy compare with that of part c?\n",
    "\n",
    "The accuracy of SVM kernals are reduced by 3% and remained at nearly 78% for RBF, sigmoid and linear, while the accuracy of Multinomial NB also reduced by 3% and remained at 81.02%. There is no significant decline of accuracy but  the decline of accuracy is mainly due to decrease in size of vocabulary. The vocabulary for part-c was 20732. After extracting noun data the vocabulary remained at 14549. The vocabulary measure is mentioned following this section. "
   ]
  },
  {
   "cell_type": "code",
   "execution_count": 26,
   "metadata": {},
   "outputs": [
    {
     "data": {
      "image/png": "[encoded data removed]",
      "text/plain": [
       "<Figure size 1440x720 with 1 Axes>"
      ]
     },
     "metadata": {
      "needs_background": "light"
     },
     "output_type": "display_data"
    }
   ],
   "source": [
    "#plot to compare accuracy of dataset with all words vs dataset with on noun words\n",
    "before_data  = (accuracy_linear_before, accuracy_sigmoid_before, accuracy_rbf_before,accuracy_nb_before)\n",
    "after_data = (accuracy_linear_after, accuracy_sigmoid_after, accuracy_rbf_after,accuracy_nb_after)\n",
    "\n",
    "ind = np.arange(len(before_data)) \n",
    "\n",
    "\n",
    "width = 0.4\n",
    "fig, ax = plt.subplots(figsize=(20,10))\n",
    "rects1 = ax.bar(ind - width/2, before_data, width,label='Part c (all words)')\n",
    "rects2 = ax.bar(ind + width/2, after_data, width,label='Part d (only nouns)')\n",
    "\n",
    "\n",
    "ax.set_ylabel('Accuracy (%)')\n",
    "ax.set_title('Comparison of accuracy between all words vs only nouns words')\n",
    "ax.set_xticks(ind)\n",
    "ax.set_xticklabels(('SVM (linear)', 'SVM (sigmoid)', 'SVM (rbf)', 'Multinomial NB'))\n",
    "ax.legend()\n",
    "\n",
    "\n",
    "fig.tight_layout()\n",
    "\n",
    "plt.show()"
   ]
  },
  {
   "cell_type": "markdown",
   "metadata": {},
   "source": [
    "#### How does the size of the vocabulary compare with that of part (c)?\n",
    "\n",
    "In part c, vocabulary size was 20732 words whereas in part d after extracting only nouns, vocabulary remained at 14549 words."
   ]
  },
  {
   "cell_type": "code",
   "execution_count": 27,
   "metadata": {},
   "outputs": [
    {
     "name": "stdout",
     "output_type": "stream",
     "text": [
      "Size of Vocabulary for part c) 20732\n",
      "Size of Vocabulary for part d) 14549\n"
     ]
    }
   ],
   "source": [
    "print(\"Size of Vocabulary for part c) \"+str(sizeOfVocabularyBefore))\n",
    "print(\"Size of Vocabulary for part d) \"+str(sizeOfVocabularyAfter))"
   ]
  },
  {
   "cell_type": "markdown",
   "metadata": {},
   "source": [
    "### References\n",
    "\n",
    "[1] S. Wang and M. D. Christopher, “Baselines and Bigrams: Simple, Good Sentiment and Topic ...” [Online]. Available:   https://nlp.stanford.edu/pubs/sidaw12_simple_sentiment.pdf.\n",
    "\n",
    "[2] “RBF SVM parameters” scikit. [Online]. Available: https://scikit-learn.org/stable/auto_examples/svm/plot_rbf_parameters.html.\n",
    "\n",
    "[3] “sklearn.naive_bayes.MultinomialNB,” scikit. [Online]. Available: https://scikit-learn.org/stable/modules/generated/sklearn.naive_bayes.MultinomialNB.html.\n",
    "\n",
    "[4] “Grouped bar chart with labels,” Grouped bar chart with labels - Matplotlib 3.1.1 documentation. [Online]. Available: https://matplotlib.org/gallery/lines_bars_and_markers/barchart.html#sphx-glr-gallery-lines-bars-and-markers-barchart-py.\n",
    "\n",
    "[5] S. Rezaeipour, “CSCI3151 : Collocation - Tutorial - 6.” [Online]. Available: https://colab.research.google.com/drive/17LMCbDOnny8h1KTqqoX3smy6US6z1vki#scrollTo=_SJyIl6is2tx.\n",
    "\n",
    "[6] S. Rezaeipour, “CSCI3151 : Lab6 _ Text Processing” [Online]. Available: https://dal.brightspace.com/d2l/le/content/98749/viewContent/1340763/View\n",
    "\n",
    "[7] “sklearn.model_selection.GridSearchCV,” scikit. [Online]. Available: https://scikit-learn.org/stable/modules/generated/sklearn.model_selection.GridSearchCV.html.\n",
    "\n",
    "[8] “sklearn.svm.SVC,” scikit. [Online]. Available: https://scikit-learn.org/stable/modules/generated/sklearn.svm.SVC.html."
   ]
  }
 ],
 "metadata": {
  "kernelspec": {
   "display_name": "Python 3",
   "language": "python",
   "name": "python3"
  },
  "language_info": {
   "codemirror_mode": {
    "name": "ipython",
    "version": 3
   },
   "file_extension": ".py",
   "mimetype": "text/x-python",
   "name": "python",
   "nbconvert_exporter": "python",
   "pygments_lexer": "ipython3",
   "version": "3.7.3"
  }
 },
 "nbformat": 4,
 "nbformat_minor": 2
}
